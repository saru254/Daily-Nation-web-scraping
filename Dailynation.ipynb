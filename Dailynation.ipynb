{
  "nbformat": 4,
  "nbformat_minor": 0,
  "metadata": {
    "colab": {
      "provenance": [],
      "authorship_tag": "ABX9TyOYCi5p+1A9DXFOEVd6s4Dd"
    },
    "kernelspec": {
      "name": "python3",
      "display_name": "Python 3"
    },
    "language_info": {
      "name": "python"
    }
  },
  "cells": [
    {
      "cell_type": "code",
      "execution_count": null,
      "metadata": {
        "id": "GZOrz9MtrJy-"
      },
      "outputs": [],
      "source": [
        "#importing necessary libraries\n",
        "import requests\n",
        "import csv\n",
        "from bs4 import BeautifulSoup"
      ]
    },
    {
      "cell_type": "code",
      "source": [
        "#opening a csv file\n",
        "csv_file = open('daily_nation.csv', 'w', newline='', encoding='utf-8')\n"
      ],
      "metadata": {
        "id": "F4bDEzgXtPBg"
      },
      "execution_count": null,
      "outputs": []
    }
  ]
}